{
 "cells": [
  {
   "cell_type": "markdown",
   "id": "5fc83b5b",
   "metadata": {},
   "source": [
    "# Load neuron transfer functions and connectivity"
   ]
  },
  {
   "cell_type": "markdown",
   "id": "ef88ece5",
   "metadata": {},
   "source": [
    "This notebook contains the functions which we use to load the transfer functions of RS and FS cells by using the method explained in [1]. The transfer functions and their parameters are based on a fitting to experimental data, therefore the parameters should be kept fixed. DO NOT CHANGE THIS NOTEBOOK as long as you want to use the transfer functions obtained via the method explained in [1]."
   ]
  },
  {
   "cell_type": "code",
   "execution_count": null,
   "id": "666fa510",
   "metadata": {},
   "outputs": [],
   "source": [
    "#export\n",
    "\n",
    "# Initialize\n",
    "\n",
    "import numpy as np\n",
    "from syn_and_connec_library import get_connectivity_and_synapses_matrix\n",
    "from cell_library import get_neuron_params\n",
    "from theoretical_tools import pseq_params,TF_my_templateup"
   ]
  },
  {
   "cell_type": "code",
   "execution_count": null,
   "id": "cc1c3c2c",
   "metadata": {},
   "outputs": [],
   "source": [
    "#export\n",
    "\n",
    "# Define the transfer functions of RS and FS cells\n",
    "\n",
    "def ReformatSynParameters(params, M):\n",
    "            \"\"\"\n",
    "                valid only of no synaptic differences between excitation and inhibition\n",
    "                \"\"\"\n",
    "\n",
    "            params['Qe'], params['Te'], params['Ee'] = M[0,0]['Q'], M[0,0]['Tsyn'], M[0,0]['Erev']\n",
    "            params['Qi'], params['Ti'], params['Ei'] = M[1,1]['Q'], M[1,1]['Tsyn'], M[1,1]['Erev']\n",
    "            params['pconnec'], params['pconnec_cross'] = M[0,0]['p_conn'], M[0,0]['p_conn_cross']\n",
    "            params['crossweight_onE'], params['crossweight_onI'] = M[0,0]['cross_weight_onE'], M[0,0]['cross_weight_onI']\n",
    "            params['Ntot'], params['gei'] = M[0,0]['Ntot'], M[0,0]['gei']\n",
    "            params['coeffCrossCov'] = M[0,0]['coeffCrossCov']\n",
    "\n",
    "def LoadTransferFunctions(NRN1, NRN2, NTWK):\n",
    "\n",
    "\n",
    "            # NTWK\n",
    "            M = get_connectivity_and_synapses_matrix(NTWK, SI_units=True)\n",
    "\n",
    "            # NRN1\n",
    "            params1 = get_neuron_params(NRN1, SI_units=True)\n",
    "            ReformatSynParameters(params1, M)\n",
    "            try:\n",
    "\n",
    "\n",
    "                P1 = np.load('data/RS-cell_CONFIG1_fit.npy')\n",
    "\n",
    "\n",
    "                params1['P'] = P1\n",
    "                def TF1(fe, fi,XX):\n",
    "                    return TF_my_templateup(fe, fi,XX, *pseq_params(params1))\n",
    "\n",
    "\n",
    "\n",
    "\n",
    "\n",
    "\n",
    "            except IOError:\n",
    "                print('=======================================================')\n",
    "                print('=====  fit for NRN1 not available  ====================')\n",
    "                print('=======================================================')\n",
    "\n",
    "            # NRN1\n",
    "            params2 = get_neuron_params(NRN2, SI_units=True)\n",
    "            ReformatSynParameters(params2, M)\n",
    "            try:\n",
    "\n",
    "                P2 = np.load('data/FS-cell_CONFIG1_fit.npy')\n",
    "\n",
    "\n",
    "\n",
    "                params2['P'] = P2\n",
    "                def TF2(fe, fi,XX):\n",
    "                    return TF_my_templateup(fe, fi,XX, *pseq_params(params2))\n",
    "\n",
    "            except IOError:\n",
    "                print('=======================================================')\n",
    "                print('=====  fit for NRN2 not available  ====================')\n",
    "                print('=======================================================')\n",
    "\n",
    "            return TF1, TF2"
   ]
  },
  {
   "cell_type": "markdown",
   "id": "c8764bf4",
   "metadata": {},
   "source": [
    "# Bibliography\n",
    "\n",
    "[1] Y. Zerlaut, A. Destexhe, A mean-field model for conductance-based networks of adaptive exponential integrate-and-fire neurons,"
   ]
  }
 ],
 "metadata": {
  "kernelspec": {
   "display_name": "Python 3",
   "language": "python",
   "name": "python3"
  },
  "language_info": {
   "codemirror_mode": {
    "name": "ipython",
    "version": 3
   },
   "file_extension": ".py",
   "mimetype": "text/x-python",
   "name": "python",
   "nbconvert_exporter": "python",
   "pygments_lexer": "ipython3",
   "version": "3.8.10"
  }
 },
 "nbformat": 4,
 "nbformat_minor": 5
}
